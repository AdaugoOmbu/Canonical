{
 "cells": [
  {
   "cell_type": "code",
   "execution_count": 3,
   "id": "5be2e7bd",
   "metadata": {},
   "outputs": [
    {
     "name": "stdout",
     "output_type": "stream",
     "text": [
      "['Alice', 'Bob', 'Carlos', 'Charlie', 'Eve']\n"
     ]
    }
   ],
   "source": [
    "import data2\n",
    "\n",
    "\n",
    "def get_members(team):\n",
    "    member_list = []\n",
    "\n",
    "    for name in people:\n",
    "        if name.displayname == team.displayname:\n",
    "            for member_name in name.members:\n",
    "                if member_name.is_team:\n",
    "                    pass\n",
    "                else:\n",
    "                    member_list.append(member_name)\n",
    "                if member_name.is_team:\n",
    "                    for sub_member_name in member_name.members:\n",
    "                        if sub_member_name.is_team:\n",
    "                            for s_n in sub_member_name.members:\n",
    "                                if s_n.is_team:\n",
    "                                    pass\n",
    "                                else:\n",
    "                                    member_list.append(s_n)\n",
    "                        else:\n",
    "                            member_list.append(sub_member_name)\n",
    "    return member_list\n",
    "\n",
    "print(sorted(p.displayname for p in get_members(c_team)))"
   ]
  },
  {
   "cell_type": "code",
   "execution_count": null,
   "id": "bb64af58",
   "metadata": {},
   "outputs": [],
   "source": []
  }
 ],
 "metadata": {
  "kernelspec": {
   "display_name": "Python 3 (ipykernel)",
   "language": "python",
   "name": "python3"
  },
  "language_info": {
   "codemirror_mode": {
    "name": "ipython",
    "version": 3
   },
   "file_extension": ".py",
   "mimetype": "text/x-python",
   "name": "python",
   "nbconvert_exporter": "python",
   "pygments_lexer": "ipython3",
   "version": "3.9.7"
  }
 },
 "nbformat": 4,
 "nbformat_minor": 5
}
