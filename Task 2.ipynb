{
 "cells": [
  {
   "cell_type": "code",
   "execution_count": 2,
   "id": "2865bdaf",
   "metadata": {},
   "outputs": [
    {
     "name": "stdout",
     "output_type": "stream",
     "text": [
      "['The A-Team', 'The C-Team']\n"
     ]
    }
   ],
   "source": [
    "import data2\n",
    "\n",
    "def exercise1(person, people):\n",
    "    team_membership = []\n",
    "\n",
    "    for individual_name in people:\n",
    "        if individual_name.is_team:\n",
    "            for team_member in individual_name.members:\n",
    "                if team_member.is_team:\n",
    "                    # checking for subset of team member list\n",
    "                    # checking if \"person\" is also member of subteam\n",
    "                    for sub_team in team_member.members:\n",
    "                        if sub_team.displayname == person.displayname:\n",
    "                            team_membership.append(individual_name)\n",
    "\n",
    "                else:\n",
    "                    if team_member.displayname == person.displayname:\n",
    "                         team_membership.append(individual_name)\n",
    "\n",
    "    return team_membership\n",
    "\n",
    "print ([t.displayname for t in exercise1(data2.alice, data2.people)])\n"
   ]
  },
  {
   "cell_type": "code",
   "execution_count": null,
   "id": "eccc2bbd",
   "metadata": {},
   "outputs": [],
   "source": []
  }
 ],
 "metadata": {
  "kernelspec": {
   "display_name": "Python 3 (ipykernel)",
   "language": "python",
   "name": "python3"
  },
  "language_info": {
   "codemirror_mode": {
    "name": "ipython",
    "version": 3
   },
   "file_extension": ".py",
   "mimetype": "text/x-python",
   "name": "python",
   "nbconvert_exporter": "python",
   "pygments_lexer": "ipython3",
   "version": "3.9.7"
  }
 },
 "nbformat": 4,
 "nbformat_minor": 5
}
